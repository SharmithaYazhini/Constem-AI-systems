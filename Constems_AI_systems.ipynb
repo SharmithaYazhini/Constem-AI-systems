{
  "nbformat": 4,
  "nbformat_minor": 0,
  "metadata": {
    "colab": {
      "name": "Constems AI systems.ipynb",
      "provenance": []
    },
    "kernelspec": {
      "name": "python3",
      "display_name": "Python 3"
    },
    "language_info": {
      "name": "python"
    }
  },
  "cells": [
    {
      "cell_type": "code",
      "execution_count": 2,
      "metadata": {
        "id": "-2YzZwFTZBE-"
      },
      "outputs": [],
      "source": [
        "import numpy as np\n",
        "import pandas as pd\n",
        "import matplotlib.pyplot as plt\n",
        "import time"
      ]
    },
    {
      "cell_type": "code",
      "source": [
        "def pseudo_uniform_good(mult=16807,mod=(2**31)-1,seed=123456789,size=1):\n",
        "  U=np.zeros(size)\n",
        "  x=(seed*mult+1)%mod\n",
        "  U[0]=x/mod\n",
        "  for i in range(1,size):\n",
        "    x=(x*mult+1)%mod\n",
        "    U[i]=x/mod\n",
        "  return U"
      ],
      "metadata": {
        "id": "oXtvPmFCceD-"
      },
      "execution_count": 7,
      "outputs": []
    },
    {
      "cell_type": "code",
      "source": [
        "def pseudo_uniform(low=0,high=1,seed=123456789,size=1):\n",
        "  return(low+(high-low)*pseudo_uniform_good(seed=seed,size=size))\n"
      ],
      "metadata": {
        "id": "q-FT5wclb93C"
      },
      "execution_count": 8,
      "outputs": []
    },
    {
      "cell_type": "code",
      "source": [
        "def binomial(n=100,p=0.5,size=1):\n",
        "  binom=[]\n",
        "  for _ in range (size):\n",
        "    t=time.perf_counter()\n",
        "    seed=int(10**9*float(str(t-int(t))[0:]))\n",
        "    U=pseudo_uniform(size=n,seed=seed)\n",
        "    Y=(U <= p).astype(int)\n",
        "    binom.append(np.sum(Y))\n",
        "  return binom\n",
        "\n"
      ],
      "metadata": {
        "id": "eqeMsTKgZn8Q"
      },
      "execution_count": 9,
      "outputs": []
    },
    {
      "cell_type": "code",
      "source": [
        "dp=binomial(n=1,p=0.50,size=100)"
      ],
      "metadata": {
        "id": "n73EGpOmdTUS"
      },
      "execution_count": 129,
      "outputs": []
    },
    {
      "cell_type": "code",
      "source": [
        "dp1=binomial(n=1,p=0.50,size=100)"
      ],
      "metadata": {
        "id": "aOAwoe9Kk3MV"
      },
      "execution_count": 130,
      "outputs": []
    },
    {
      "cell_type": "code",
      "source": [
        "import array as arr\n",
        "x=arr.array(\"i\",dp)"
      ],
      "metadata": {
        "id": "DrCS3pUemxn8"
      },
      "execution_count": 131,
      "outputs": []
    },
    {
      "cell_type": "code",
      "source": [
        "print(x)"
      ],
      "metadata": {
        "colab": {
          "base_uri": "https://localhost:8080/"
        },
        "id": "4yLuPiNqm4W3",
        "outputId": "4ee81cbb-38c3-451b-b162-e40e469d1e23"
      },
      "execution_count": 132,
      "outputs": [
        {
          "output_type": "stream",
          "name": "stdout",
          "text": [
            "array('i', [0, 0, 1, 1, 0, 0, 1, 1, 1, 0, 0, 0, 1, 1, 0, 0, 0, 1, 1, 0, 0, 0, 1, 1, 0, 0, 0, 1, 1, 1, 0, 0, 0, 1, 1, 0, 0, 0, 1, 1, 1, 0, 0, 0, 1, 1, 0, 0, 0, 1, 1, 1, 0, 0, 1, 1, 0, 0, 1, 1, 1, 0, 0, 1, 1, 1, 0, 0, 1, 1, 1, 0, 0, 1, 1, 1, 0, 0, 1, 1, 1, 0, 0, 0, 1, 1, 0, 0, 0, 1, 1, 1, 0, 0, 0, 1, 0, 0, 0, 1])\n"
          ]
        }
      ]
    },
    {
      "cell_type": "code",
      "source": [
        "y=arr.array(\"i\",dp1)\n",
        "print(y)"
      ],
      "metadata": {
        "colab": {
          "base_uri": "https://localhost:8080/"
        },
        "id": "MKBSSIRnnBCh",
        "outputId": "bd71e1fb-6b94-4d64-c486-1a9b9aadf393"
      },
      "execution_count": 133,
      "outputs": [
        {
          "output_type": "stream",
          "name": "stdout",
          "text": [
            "array('i', [1, 1, 0, 1, 1, 1, 0, 0, 1, 1, 1, 0, 0, 0, 1, 1, 0, 0, 0, 1, 1, 0, 0, 0, 1, 1, 1, 0, 0, 1, 1, 1, 0, 0, 0, 1, 1, 0, 0, 1, 1, 1, 0, 0, 0, 1, 1, 0, 0, 0, 1, 1, 1, 0, 0, 0, 1, 1, 1, 0, 0, 1, 1, 1, 0, 0, 0, 1, 1, 0, 0, 0, 1, 1, 1, 0, 0, 1, 1, 1, 0, 0, 0, 1, 1, 1, 0, 0, 1, 1, 1, 0, 0, 1, 1, 1, 0, 0, 0, 1])\n"
          ]
        }
      ]
    },
    {
      "cell_type": "code",
      "source": [
        "from math import sqrt \n",
        "inside=0\n",
        "n=100 \n",
        "\n",
        "for i in range(0,100):\n",
        "    print(x[i],y[i])\n",
        "    print(sqrt(x[i]*x[i]+y[i]*y[i]))\n",
        "    if sqrt(x[i]*x[i]+y[i]*y[i])<=1:  \n",
        "        inside=inside+1\n",
        "    i=i+1        \n",
        "pi=4*inside/n \n",
        "    "
      ],
      "metadata": {
        "colab": {
          "base_uri": "https://localhost:8080/"
        },
        "id": "QzWTXN0Teeob",
        "outputId": "655ef7e9-497b-4cb5-db71-e1e19129ed6d"
      },
      "execution_count": 134,
      "outputs": [
        {
          "output_type": "stream",
          "name": "stdout",
          "text": [
            "0 1\n",
            "1.0\n",
            "0 1\n",
            "1.0\n",
            "1 0\n",
            "1.0\n",
            "1 1\n",
            "1.4142135623730951\n",
            "0 1\n",
            "1.0\n",
            "0 1\n",
            "1.0\n",
            "1 0\n",
            "1.0\n",
            "1 0\n",
            "1.0\n",
            "1 1\n",
            "1.4142135623730951\n",
            "0 1\n",
            "1.0\n",
            "0 1\n",
            "1.0\n",
            "0 0\n",
            "0.0\n",
            "1 0\n",
            "1.0\n",
            "1 0\n",
            "1.0\n",
            "0 1\n",
            "1.0\n",
            "0 1\n",
            "1.0\n",
            "0 0\n",
            "0.0\n",
            "1 0\n",
            "1.0\n",
            "1 0\n",
            "1.0\n",
            "0 1\n",
            "1.0\n",
            "0 1\n",
            "1.0\n",
            "0 0\n",
            "0.0\n",
            "1 0\n",
            "1.0\n",
            "1 0\n",
            "1.0\n",
            "0 1\n",
            "1.0\n",
            "0 1\n",
            "1.0\n",
            "0 1\n",
            "1.0\n",
            "1 0\n",
            "1.0\n",
            "1 0\n",
            "1.0\n",
            "1 1\n",
            "1.4142135623730951\n",
            "0 1\n",
            "1.0\n",
            "0 1\n",
            "1.0\n",
            "0 0\n",
            "0.0\n",
            "1 0\n",
            "1.0\n",
            "1 0\n",
            "1.0\n",
            "0 1\n",
            "1.0\n",
            "0 1\n",
            "1.0\n",
            "0 0\n",
            "0.0\n",
            "1 0\n",
            "1.0\n",
            "1 1\n",
            "1.4142135623730951\n",
            "1 1\n",
            "1.4142135623730951\n",
            "0 1\n",
            "1.0\n",
            "0 0\n",
            "0.0\n",
            "0 0\n",
            "0.0\n",
            "1 0\n",
            "1.0\n",
            "1 1\n",
            "1.4142135623730951\n",
            "0 1\n",
            "1.0\n",
            "0 0\n",
            "0.0\n",
            "0 0\n",
            "0.0\n",
            "1 0\n",
            "1.0\n",
            "1 1\n",
            "1.4142135623730951\n",
            "1 1\n",
            "1.4142135623730951\n",
            "0 1\n",
            "1.0\n",
            "0 0\n",
            "0.0\n",
            "1 0\n",
            "1.0\n",
            "1 0\n",
            "1.0\n",
            "0 1\n",
            "1.0\n",
            "0 1\n",
            "1.0\n",
            "1 1\n",
            "1.4142135623730951\n",
            "1 0\n",
            "1.0\n",
            "1 0\n",
            "1.0\n",
            "0 1\n",
            "1.0\n",
            "0 1\n",
            "1.0\n",
            "1 1\n",
            "1.4142135623730951\n",
            "1 0\n",
            "1.0\n",
            "1 0\n",
            "1.0\n",
            "0 0\n",
            "0.0\n",
            "0 1\n",
            "1.0\n",
            "1 1\n",
            "1.4142135623730951\n",
            "1 0\n",
            "1.0\n",
            "1 0\n",
            "1.0\n",
            "0 0\n",
            "0.0\n",
            "0 1\n",
            "1.0\n",
            "1 1\n",
            "1.4142135623730951\n",
            "1 1\n",
            "1.4142135623730951\n",
            "1 0\n",
            "1.0\n",
            "0 0\n",
            "0.0\n",
            "0 1\n",
            "1.0\n",
            "1 1\n",
            "1.4142135623730951\n",
            "1 1\n",
            "1.4142135623730951\n",
            "1 0\n",
            "1.0\n",
            "0 0\n",
            "0.0\n",
            "0 0\n",
            "0.0\n",
            "0 1\n",
            "1.0\n",
            "1 1\n",
            "1.4142135623730951\n",
            "1 1\n",
            "1.4142135623730951\n",
            "0 0\n",
            "0.0\n",
            "0 0\n",
            "0.0\n",
            "0 1\n",
            "1.0\n",
            "1 1\n",
            "1.4142135623730951\n",
            "1 1\n",
            "1.4142135623730951\n",
            "1 0\n",
            "1.0\n",
            "0 0\n",
            "0.0\n",
            "0 1\n",
            "1.0\n",
            "0 1\n",
            "1.0\n",
            "1 1\n",
            "1.4142135623730951\n",
            "0 0\n",
            "0.0\n",
            "0 0\n",
            "0.0\n",
            "0 0\n",
            "0.0\n",
            "1 1\n",
            "1.4142135623730951\n"
          ]
        }
      ]
    },
    {
      "cell_type": "code",
      "source": [
        "print(inside)\n",
        "print(pi)"
      ],
      "metadata": {
        "colab": {
          "base_uri": "https://localhost:8080/"
        },
        "id": "5u2HzgLYisGH",
        "outputId": "501beeaf-1213-4527-ddf4-e5d8b7957169"
      },
      "execution_count": 135,
      "outputs": [
        {
          "output_type": "stream",
          "name": "stdout",
          "text": [
            "79\n",
            "3.16\n"
          ]
        }
      ]
    },
    {
      "cell_type": "code",
      "source": [
        ""
      ],
      "metadata": {
        "id": "dHifQZtMitQO"
      },
      "execution_count": null,
      "outputs": []
    }
  ]
}